{
 "cells": [
  {
   "cell_type": "markdown",
   "id": "0bb62497-5107-4f11-a163-5018d0ce9c1d",
   "metadata": {},
   "source": [
    "# Data Science Tools and Ecosystem"
   ]
  },
  {
   "cell_type": "markdown",
   "id": "06d653ef-6608-4095-9741-af45f9d2b71d",
   "metadata": {},
   "source": [
    "In this notebook, Data Science Tools and Ecosystem are summarized."
   ]
  },
  {
   "cell_type": "markdown",
   "id": "783c819e-4753-431f-b388-2b8077dd9416",
   "metadata": {},
   "source": [
    "**Objectives**"
   ]
  },
  {
   "cell_type": "markdown",
   "id": "2d8a76a3-d42c-4847-9fbb-7680912d01ad",
   "metadata": {
    "tags": []
   },
   "source": [
    "* Popular languages for Data Science are Python,SQl,R, Julia and Scala.\n",
    "* Popular libraries used in Data Science are NumPy, Pandas,Matplotlib, TensorFlow and Scikit Learn.\n",
    "* Popular Data Science Tools used in Data Science are Matpltlib,Pandas and NumPy.\n",
    "* Popular frameworks for implementing Deep Learning models are TensorFlow, PyTorch and Keras."
   ]
  },
  {
   "cell_type": "markdown",
   "id": "d7fd8755-1e2d-49ea-9b68-de901f7af365",
   "metadata": {
    "tags": []
   },
   "source": [
    "Some of the popular languages that Data Scientist use are:\n",
    "1. Python\n",
    "2. SQL\n",
    "3. R"
   ]
  },
  {
   "cell_type": "markdown",
   "id": "a8647b4a-fc76-43d6-a8ea-a7a46375ae6c",
   "metadata": {
    "tags": []
   },
   "source": [
    "Some of the commonly used libraries used by Data Scientists include:\n",
    "\n",
    "1. NumPy\n",
    "2. Pandas\n",
    "3. Matplotlib\n",
    "4. TensorFlow\n",
    "5. Scikit-Learn\n"
   ]
  },
  {
   "cell_type": "markdown",
   "id": "a86d0206-1052-4950-8f5a-a3eb2fe4bafe",
   "metadata": {},
   "source": [
    "| Data Science Tools|\n",
    "| :- |\n",
    "| Matplotlib |\n",
    "| Pandas |\n",
    "| NumPy |"
   ]
  },
  {
   "cell_type": "markdown",
   "id": "931c7cee-cdd3-47ac-8462-5ae947c95246",
   "metadata": {},
   "source": [
    "### Below are a few examples of evaluating arithmetic expressions in Python."
   ]
  },
  {
   "cell_type": "markdown",
   "id": "7eda26ac-512a-49f6-bce8-50646ec49efb",
   "metadata": {},
   "source": [
    "This is a simple arithmetic expression to multiply then add integers"
   ]
  },
  {
   "cell_type": "code",
   "execution_count": 2,
   "id": "5d51273a-38ae-4337-9715-6a8917aa7a55",
   "metadata": {
    "tags": []
   },
   "outputs": [
    {
     "data": {
      "text/plain": [
       "17"
      ]
     },
     "execution_count": 2,
     "metadata": {},
     "output_type": "execute_result"
    }
   ],
   "source": [
    "(3*4)+5"
   ]
  },
  {
   "cell_type": "markdown",
   "id": "5c72bb06-ec7c-499c-a4e9-2a60a4aa2c9d",
   "metadata": {},
   "source": [
    "this will convert 200 minutes to hours by dividing by 60."
   ]
  },
  {
   "cell_type": "code",
   "execution_count": 3,
   "id": "eba64e27-b4f3-4990-b0fc-3b7b7cd4818d",
   "metadata": {
    "tags": []
   },
   "outputs": [
    {
     "data": {
      "text/plain": [
       "3.3333333333333335"
      ]
     },
     "execution_count": 3,
     "metadata": {},
     "output_type": "execute_result"
    }
   ],
   "source": [
    "200/60"
   ]
  },
  {
   "cell_type": "markdown",
   "id": "66e4d3d7-1892-4711-ad7f-bdeeee6c51c8",
   "metadata": {},
   "source": [
    "## Author\n",
    "Subin Kanniyakonil Thomas"
   ]
  },
  {
   "cell_type": "code",
   "execution_count": null,
   "id": "777a74b4-13fa-4c0a-8313-9eb797c07212",
   "metadata": {},
   "outputs": [],
   "source": []
  }
 ],
 "metadata": {
  "kernelspec": {
   "display_name": "Python",
   "language": "python",
   "name": "conda-env-python-py"
  },
  "language_info": {
   "codemirror_mode": {
    "name": "ipython",
    "version": 3
   },
   "file_extension": ".py",
   "mimetype": "text/x-python",
   "name": "python",
   "nbconvert_exporter": "python",
   "pygments_lexer": "ipython3",
   "version": "3.7.12"
  }
 },
 "nbformat": 4,
 "nbformat_minor": 5
}
